{
 "cells": [
  {
   "cell_type": "code",
   "execution_count": 110,
   "metadata": {},
   "outputs": [],
   "source": [
    "import pandas as pd\n",
    "\n",
    "\n"
   ]
  },
  {
   "cell_type": "code",
   "execution_count": 118,
   "metadata": {},
   "outputs": [],
   "source": [
    "Brand = ['Ford','Toyota','Ford','Kia']\n",
    "Price = [300,500,700,700]\n",
    "Pricelist = list(zip(Brand,Price))"
   ]
  },
  {
   "cell_type": "code",
   "execution_count": 122,
   "metadata": {},
   "outputs": [
    {
     "data": {
      "text/html": [
       "<div>\n",
       "<style scoped>\n",
       "    .dataframe tbody tr th:only-of-type {\n",
       "        vertical-align: middle;\n",
       "    }\n",
       "\n",
       "    .dataframe tbody tr th {\n",
       "        vertical-align: top;\n",
       "    }\n",
       "\n",
       "    .dataframe thead th {\n",
       "        text-align: right;\n",
       "    }\n",
       "</style>\n",
       "<table border=\"1\" class=\"dataframe\">\n",
       "  <thead>\n",
       "    <tr style=\"text-align: right;\">\n",
       "      <th></th>\n",
       "      <th>Brand</th>\n",
       "    </tr>\n",
       "  </thead>\n",
       "  <tbody>\n",
       "    <tr>\n",
       "      <th>count</th>\n",
       "      <td>4</td>\n",
       "    </tr>\n",
       "    <tr>\n",
       "      <th>unique</th>\n",
       "      <td>3</td>\n",
       "    </tr>\n",
       "    <tr>\n",
       "      <th>top</th>\n",
       "      <td>Ford</td>\n",
       "    </tr>\n",
       "    <tr>\n",
       "      <th>freq</th>\n",
       "      <td>2</td>\n",
       "    </tr>\n",
       "  </tbody>\n",
       "</table>\n",
       "</div>"
      ],
      "text/plain": [
       "       Brand\n",
       "count      4\n",
       "unique     3\n",
       "top     Ford\n",
       "freq       2"
      ]
     },
     "execution_count": 122,
     "metadata": {},
     "output_type": "execute_result"
    }
   ],
   "source": [
    "df=pd.DataFrame(data=Pricelist, columns=('Brand','Price'))\n",
    "df.describe(include=('object'))"
   ]
  },
  {
   "cell_type": "code",
   "execution_count": 137,
   "metadata": {},
   "outputs": [],
   "source": [
    "df=pd.DataFrame(data=Pricelist, columns=('Brand','Price'))\n",
    "df1=df.copy()\n",
    "df2=df.copy()\n",
    "writer=pd.ExcelWriter('test.xlsx',engine ='xlsxwriter')\n",
    "df.to_excel(writer,sheet_name='pricelist')\n",
    "df1.to_excel(writer,sheet_name='B')\n",
    "df2.to_excel(writer,sheet_name='C')\n",
    "writer.save()"
   ]
  },
  {
   "cell_type": "code",
   "execution_count": 138,
   "metadata": {},
   "outputs": [],
   "source": [
    "#chain method\n",
    "\n",
    "df=pd.DataFrame(data=Pricelist, columns=('Brand','Price'))\n",
    "df1=df.copy()\n",
    "df2=df.copy()\n",
    "\n",
    "df.to_excel(pd.ExcelWriter('test.xlsx',engine ='xlsxwriter'),sheet_name='pricelist')\n",
    "df1.to_excel(pd.ExcelWriter('test.xlsx',engine ='xlsxwriter'),sheet_name='B')\n",
    "df2.to_excel(pd.ExcelWriter('test.xlsx',engine ='xlsxwriter'),sheet_name='C')\n",
    "\n"
   ]
  },
  {
   "cell_type": "code",
   "execution_count": null,
   "metadata": {},
   "outputs": [],
   "source": []
  },
  {
   "cell_type": "code",
   "execution_count": null,
   "metadata": {},
   "outputs": [],
   "source": []
  }
 ],
 "metadata": {
  "kernelspec": {
   "display_name": "Python 3",
   "language": "python",
   "name": "python3"
  },
  "language_info": {
   "codemirror_mode": {
    "name": "ipython",
    "version": 3
   },
   "file_extension": ".py",
   "mimetype": "text/x-python",
   "name": "python",
   "nbconvert_exporter": "python",
   "pygments_lexer": "ipython3",
   "version": "3.7.1"
  }
 },
 "nbformat": 4,
 "nbformat_minor": 2
}
